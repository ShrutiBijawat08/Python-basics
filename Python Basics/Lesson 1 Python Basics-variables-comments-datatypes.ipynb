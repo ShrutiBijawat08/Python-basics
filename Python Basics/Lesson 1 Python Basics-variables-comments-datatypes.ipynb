{
 "cells": [
  {
   "cell_type": "code",
   "execution_count": 2,
   "metadata": {},
   "outputs": [
    {
     "name": "stdout",
     "output_type": "stream",
     "text": [
      "Hello, World!\n"
     ]
    }
   ],
   "source": [
    "# Python Comments\n",
    "# single line comment\n",
    "x = 5\n",
    "y = \"Hello, World!\" \n",
    "\n",
    "print(\"Hello, World!\") #This is a comment\n",
    "\n"
   ]
  },
  {
   "cell_type": "code",
   "execution_count": 2,
   "metadata": {},
   "outputs": [
    {
     "name": "stdout",
     "output_type": "stream",
     "text": [
      "Hello, World!\n"
     ]
    }
   ],
   "source": [
    "#Multiline comment\n",
    "#This is a comment\n",
    "#written in\n",
    "#more than just one line\n",
    "print(\"Hello, World!\")"
   ]
  },
  {
   "cell_type": "code",
   "execution_count": 1,
   "metadata": {},
   "outputs": [
    {
     "name": "stdout",
     "output_type": "stream",
     "text": [
      "Hello, World!\n"
     ]
    }
   ],
   "source": [
    "\"\"\"\n",
    "This is a comment\n",
    "written in\n",
    "more than just one line\n",
    "\"\"\"\n",
    "print(\"Hello, World!\")"
   ]
  },
  {
   "cell_type": "code",
   "execution_count": 6,
   "metadata": {},
   "outputs": [
    {
     "name": "stdout",
     "output_type": "stream",
     "text": [
      "<class 'int'>\n",
      "John\n",
      "5.0\n",
      "Shruti\n"
     ]
    }
   ],
   "source": [
    "#Variables\n",
    "\n",
    "#Python has no command for declaring a variable.\n",
    "#A variable is created the moment you first assign a value to it.\n",
    "\n",
    "x = 5  # x is of type int\n",
    "z=5.0 # z is float\n",
    "y = \"John\"  # x is now of type str\n",
    "a='Shruti'\n",
    "print(type(x))\n",
    "print(y)\n",
    "print(z)\n",
    "print(a)"
   ]
  },
  {
   "cell_type": "code",
   "execution_count": 7,
   "metadata": {},
   "outputs": [
    {
     "name": "stdout",
     "output_type": "stream",
     "text": [
      "<class 'int'>\n",
      "<class 'str'>\n"
     ]
    }
   ],
   "source": [
    "#Casting\n",
    "#If you want to specify the data type of a variable, this can be done with casting.\n",
    "x=3\n",
    "print(type(x))\n",
    "x = str(3)    # x will be '3'\n",
    "print(type(x))\n",
    "y = int(3)    # y will be 3\n",
    "z = float(3)  # z will be 3.0"
   ]
  },
  {
   "cell_type": "code",
   "execution_count": 6,
   "metadata": {},
   "outputs": [
    {
     "name": "stdout",
     "output_type": "stream",
     "text": [
      "<class 'int'>\n",
      "<class 'str'>\n"
     ]
    }
   ],
   "source": [
    "#Get the Type\n",
    "\n",
    "x = 5\n",
    "y = \"John\"\n",
    "print(type(x))\n",
    "print(type(y))"
   ]
  },
  {
   "cell_type": "code",
   "execution_count": 16,
   "metadata": {},
   "outputs": [
    {
     "name": "stdout",
     "output_type": "stream",
     "text": [
      "HELLO\n",
      "9\n",
      "9\n",
      "8\n"
     ]
    }
   ],
   "source": [
    "#Single or Double Quotes?\n",
    "#Case-Sensitive\n",
    "\n",
    "print(\"HELLO\")\n",
    "a=10\n",
    "a=9\n",
    "A=8\n",
    "print(a)\n",
    "print(a)\n",
    "print(A)\n",
    "\n",
    "\n",
    "\n",
    "abc=5\n",
    "abc2=6\n",
    "abc=7\n",
    "abcv=6\n",
    "abc_b=8"
   ]
  },
  {
   "cell_type": "code",
   "execution_count": 8,
   "metadata": {},
   "outputs": [
    {
     "ename": "SyntaxError",
     "evalue": "invalid syntax (<ipython-input-8-7f4f850fcc65>, line 5)",
     "output_type": "error",
     "traceback": [
      "\u001b[1;36m  File \u001b[1;32m\"<ipython-input-8-7f4f850fcc65>\"\u001b[1;36m, line \u001b[1;32m5\u001b[0m\n\u001b[1;33m    2myvar = \"John\"\u001b[0m\n\u001b[1;37m         ^\u001b[0m\n\u001b[1;31mSyntaxError\u001b[0m\u001b[1;31m:\u001b[0m invalid syntax\n"
     ]
    }
   ],
   "source": [
    "#Variable Names\n",
    "\n",
    "#Illegal variable names:\n",
    "    \n",
    "2myvar = \"John\"\n",
    "my-var = \"John\"\n",
    "my var = \"John\"    "
   ]
  },
  {
   "cell_type": "code",
   "execution_count": 9,
   "metadata": {},
   "outputs": [],
   "source": [
    "#Multi Words Variable Names\n",
    "\n",
    "#Camel Case\n",
    "#Each word, except the first, starts with a capital letter:\n",
    "\n",
    "myVariableName = \"John\"\n",
    "\n",
    "#Pascal Case\n",
    "#Each word starts with a capital letter:\n",
    "\n",
    "MyVariableName = \"John\"\n",
    "\n",
    "#Snake Case\n",
    "#Each word is separated by an underscore character:\n",
    "\n",
    "my_variable_name = \"John\""
   ]
  },
  {
   "cell_type": "code",
   "execution_count": 19,
   "metadata": {},
   "outputs": [
    {
     "name": "stdout",
     "output_type": "stream",
     "text": [
      "Orange\n",
      "Banana\n",
      "Cherry\n",
      "('Orange', 'Banana', 'Cherry')\n"
     ]
    }
   ],
   "source": [
    "#Python Variables - Assign Multiple Values\n",
    "\n",
    "x,y,z=\"Orange\", \"Banana\", \"Cherry\"\n",
    "#TASK 1\n",
    "xyz = \"Orange\", \"Banana\", \"Cherry\"\n",
    "print(x)\n",
    "print(y)\n",
    "print(z)\n",
    "print(xyz)"
   ]
  },
  {
   "cell_type": "code",
   "execution_count": 11,
   "metadata": {},
   "outputs": [
    {
     "name": "stdout",
     "output_type": "stream",
     "text": [
      "Orange\n",
      "Orange\n",
      "Orange\n"
     ]
    }
   ],
   "source": [
    "x = y = z = \"Orange\"\n",
    "print(x)\n",
    "print(y)\n",
    "print(z)"
   ]
  },
  {
   "cell_type": "code",
   "execution_count": 25,
   "metadata": {},
   "outputs": [
    {
     "name": "stdout",
     "output_type": "stream",
     "text": [
      "Python is awesome\n",
      "Python is 3\n",
      "Python is 3\n",
      "Python is   3\n"
     ]
    }
   ],
   "source": [
    "#Output Variables\n",
    "#The Python print statement is often used to output variables.\n",
    "\n",
    "#To combine both text and a variable, Python uses the + character:\n",
    "\n",
    "x = \"awesome\"\n",
    "y=3\n",
    "y=str(3)\n",
    "print(\"Python is \" + x)\n",
    "print(\"Python is \" + y)\n",
    "print(\"Python is \" + str(y))\n",
    "print(\"Python is  \",y)"
   ]
  },
  {
   "cell_type": "code",
   "execution_count": 36,
   "metadata": {},
   "outputs": [
    {
     "name": "stdout",
     "output_type": "stream",
     "text": [
      "Enter number 1  3\n",
      "<class 'int'>\n",
      "Enter number 2  4\n",
      "4\n",
      "7\n",
      "<class 'int'>\n"
     ]
    }
   ],
   "source": [
    "# taking value from user\n",
    "\n",
    "\n",
    "#a=input(\"Enter your name\")\n",
    "#print(a)\n",
    "b=int(input(\"Enter number 1  \"))\n",
    "print(type(b))\n",
    "c=int(input(\"Enter number 2  \"))\n",
    "print(c)\n",
    "\n",
    "d=b+c\n",
    "print(d)\n",
    "print(type(d))\n",
    "\n",
    "\n",
    "#n=int(input(\"Enter number: \"))\n",
    "#print(n)"
   ]
  },
  {
   "cell_type": "code",
   "execution_count": 3,
   "metadata": {},
   "outputs": [
    {
     "name": "stdout",
     "output_type": "stream",
     "text": [
      "225\n"
     ]
    }
   ],
   "source": [
    "#Python Operator\n",
    "#Python Arithmetic Operators : +,-,*,/,%,**,//\n",
    "\n",
    "x = 15\n",
    "y = 2\n",
    "\n",
    "print(x ** y)\n",
    "\n",
    "#the floor division // rounds the result down to the nearest whole number"
   ]
  },
  {
   "cell_type": "code",
   "execution_count": 15,
   "metadata": {},
   "outputs": [],
   "source": [
    "#Python Assignment Operators: =, +=,-=,*=,/=\n",
    "\n",
    "a=a+1\n",
    "a+=1\n"
   ]
  },
  {
   "cell_type": "code",
   "execution_count": 16,
   "metadata": {},
   "outputs": [],
   "source": [
    "#Python Comparison Operators: ==, !=,>,<.>=,<="
   ]
  },
  {
   "cell_type": "code",
   "execution_count": 8,
   "metadata": {},
   "outputs": [],
   "source": [
    "#Python Logical Operators: and, or, not\n",
    "x=3\n",
    "y=6\n",
    "if ( x>5 and y<7):\n",
    "    print(\"True\")\n"
   ]
  },
  {
   "cell_type": "code",
   "execution_count": 10,
   "metadata": {},
   "outputs": [
    {
     "name": "stdout",
     "output_type": "stream",
     "text": [
      "True\n",
      "False\n",
      "False\n"
     ]
    }
   ],
   "source": [
    "#Python Identity Operators\n",
    "#Identity operators are used to compare the objects\n",
    "# is, is not\n",
    "\n",
    "x = [\"apple\", \"banana\"]\n",
    "y = [\"apple\", \"kiwi\"]\n",
    "z = x\n",
    "\n",
    "print(x is z)\n",
    "\n",
    "# returns True because z is the same object as x\n",
    "\n",
    "print(x is y)\n",
    "\n",
    "# returns False because x is not the same object as y, even if they have the same content\n",
    "\n",
    "print(x == y)\n",
    "\n",
    "# to demonstrate the difference betweeen \"is\" and \"==\": this comparison returns True because x is equal to y"
   ]
  },
  {
   "cell_type": "code",
   "execution_count": 19,
   "metadata": {},
   "outputs": [
    {
     "name": "stdout",
     "output_type": "stream",
     "text": [
      "False\n",
      "True\n",
      "False\n"
     ]
    }
   ],
   "source": [
    "x = [\"apple\", \"banana\"]\n",
    "y = [\"apple\", \"banana\"]\n",
    "z = x\n",
    "\n",
    "print(x is not z)\n",
    "\n",
    "# returns False because z is the same object as x\n",
    "\n",
    "print(x is not y)\n",
    "\n",
    "# returns True because x is not the same object as y, even if they have the same content\n",
    "\n",
    "print(x != y)\n",
    "\n",
    "# to demonstrate the difference betweeen \"is not\" and \"!=\": this comparison returns False because x is equal to y"
   ]
  },
  {
   "cell_type": "code",
   "execution_count": 12,
   "metadata": {},
   "outputs": [
    {
     "name": "stdout",
     "output_type": "stream",
     "text": [
      "False\n"
     ]
    }
   ],
   "source": [
    "#Python Membership Operators\n",
    "#Membership operators are used to test if a sequence is presented in an object: in, not in\n",
    "\n",
    "x = [\"apple\", \"banana\"]\n",
    "\n",
    "print(\"kiwi\" in x)\n",
    "\n",
    "# returns True because a sequence with the value \"banana\" is in the list"
   ]
  },
  {
   "cell_type": "code",
   "execution_count": 21,
   "metadata": {},
   "outputs": [
    {
     "name": "stdout",
     "output_type": "stream",
     "text": [
      "True\n"
     ]
    }
   ],
   "source": [
    "x = [\"apple\", \"banana\"]\n",
    "\n",
    "print(\"pineapple\" not in x)\n",
    "\n",
    "# returns True because a sequence with the value \"pineapple\" is not in the list"
   ]
  },
  {
   "cell_type": "code",
   "execution_count": 44,
   "metadata": {},
   "outputs": [
    {
     "name": "stdout",
     "output_type": "stream",
     "text": [
      "Please enter your name Shruti\n",
      "Shruti Please enter the marks of subject 1 50\n",
      "Shruti Please enter the marks of subject 2 60\n",
      "Shruti Please enter the marks of subject 3 70\n",
      "Shruti Please enter the marks of subject 4 67\n",
      "Shruti Please enter the marks of subject 5 89\n",
      "50\n",
      "60\n",
      "70\n",
      "67\n",
      "89\n",
      "67.2\n",
      "Grade D\n"
     ]
    }
   ],
   "source": [
    "# Grading system\n",
    "\n",
    "Name=input(\"Please enter your name \")\n",
    "Sub1=int(input(\"{} Please enter the marks of subject 1 \".format(Name)))\n",
    "Sub2=int(input(\"{} Please enter the marks of subject 2 \".format(Name)))\n",
    "Sub3=int(input(\"{} Please enter the marks of subject 3 \".format(Name)))\n",
    "Sub4=int(input(\"{} Please enter the marks of subject 4 \".format(Name)))\n",
    "Sub5=int(input(\"{} Please enter the marks of subject 5 \".format(Name)))\n",
    "\n",
    "print(Sub1)\n",
    "print(Sub2)\n",
    "print(Sub3)\n",
    "print(Sub4)\n",
    "print(Sub5)\n",
    "\n",
    "Avg= (Sub1+Sub2+Sub3+Sub4+Sub5)/5\n",
    "print(Avg)\n",
    "\n",
    "if(Avg>90):\n",
    "    print(\"Grade A\")\n",
    "elif(Avg>80  and Avg<=89)  :\n",
    "    print(\"Grade B\")\n",
    "elif(Avg>70  and Avg<=79)  :\n",
    "    print(\"Grade C\")    \n",
    "else:\n",
    "    print(\"Grade D\")\n",
    "\n",
    "    \n",
    "\n"
   ]
  },
  {
   "cell_type": "code",
   "execution_count": null,
   "metadata": {},
   "outputs": [],
   "source": []
  }
 ],
 "metadata": {
  "kernelspec": {
   "display_name": "Python 3",
   "language": "python",
   "name": "python3"
  },
  "language_info": {
   "codemirror_mode": {
    "name": "ipython",
    "version": 3
   },
   "file_extension": ".py",
   "mimetype": "text/x-python",
   "name": "python",
   "nbconvert_exporter": "python",
   "pygments_lexer": "ipython3",
   "version": "3.7.6"
  }
 },
 "nbformat": 4,
 "nbformat_minor": 4
}
