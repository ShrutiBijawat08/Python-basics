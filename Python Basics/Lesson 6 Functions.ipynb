{
 "cells": [
  {
   "cell_type": "code",
   "execution_count": 8,
   "metadata": {},
   "outputs": [
    {
     "name": "stdout",
     "output_type": "stream",
     "text": [
      "Hello from a function\n"
     ]
    }
   ],
   "source": [
    "#Creating a Function\n",
    "\n",
    "def my_function():\n",
    "  print(\"Hello from a function\")\n",
    "\n",
    "my_function()"
   ]
  },
  {
   "cell_type": "code",
   "execution_count": 2,
   "metadata": {},
   "outputs": [
    {
     "name": "stdout",
     "output_type": "stream",
     "text": [
      "Emil\n",
      "Tobias\n",
      "Linus\n"
     ]
    }
   ],
   "source": [
    "#Information can be passed into functions as arguments.\n",
    "def my_function(fname):\n",
    "  print(fname)\n",
    "\n",
    "my_function(\"Emil\")\n",
    "my_function(\"Tobias\")\n",
    "my_function(\"Linus\")"
   ]
  },
  {
   "cell_type": "code",
   "execution_count": 11,
   "metadata": {},
   "outputs": [
    {
     "name": "stdout",
     "output_type": "stream",
     "text": [
      "Bijawat Shruti\n"
     ]
    }
   ],
   "source": [
    "def my_function(fname,lname):\n",
    "  print(fname + \" \" + lname)\n",
    "\n",
    "my_function(\"Bijawat\", \"Shruti\")"
   ]
  },
  {
   "cell_type": "code",
   "execution_count": 15,
   "metadata": {},
   "outputs": [
    {
     "name": "stdout",
     "output_type": "stream",
     "text": [
      "The youngest child is Linus\n",
      "The youngest child is  ('Emil', 'Tobias', 'Linus')\n"
     ]
    }
   ],
   "source": [
    "#If you do not know how many arguments that will be passed into your function, \n",
    "#add a * before the parameter name in the function definition.\n",
    "\n",
    "#This way the function will receive a tuple of arguments, and can access the items accordingly:\n",
    "\n",
    "def my_function(*kids):\n",
    "  print(\"The youngest child is \" + kids[2])\n",
    "  #print(\"The youngest child is \", kids)  \n",
    "my_function(\"Emil\", \"Tobias\", \"Linus\")"
   ]
  },
  {
   "cell_type": "code",
   "execution_count": 16,
   "metadata": {},
   "outputs": [
    {
     "name": "stdout",
     "output_type": "stream",
     "text": [
      "The youngest child is Emil\n"
     ]
    }
   ],
   "source": [
    "def my_function(child3, child2, child1):\n",
    "  print(\"The youngest child is \" + child1)\n",
    "\n",
    "my_function(child1 = \"Emil\", child2 = \"Tobias\", child3 = \"Linus\")"
   ]
  },
  {
   "cell_type": "code",
   "execution_count": 18,
   "metadata": {},
   "outputs": [
    {
     "name": "stdout",
     "output_type": "stream",
     "text": [
      "I am from Sweden\n",
      "I am from India\n",
      "I am from Norway\n",
      "I am from Brazil\n"
     ]
    }
   ],
   "source": [
    "#Default Parameter Value\n",
    "\n",
    "def my_function(country=\"Norway\"):\n",
    "  print(\"I am from \" + country)\n",
    "\n",
    "my_function(\"Sweden\")\n",
    "my_function(\"India\")\n",
    "my_function()\n",
    "my_function(\"Brazil\")"
   ]
  },
  {
   "cell_type": "code",
   "execution_count": 7,
   "metadata": {},
   "outputs": [
    {
     "name": "stdout",
     "output_type": "stream",
     "text": [
      "apple\n",
      "banana\n",
      "cherry\n"
     ]
    }
   ],
   "source": [
    "#Passing a List as an Argument\n",
    "\n",
    "def my_function(food):\n",
    "  for x in food:\n",
    "    print(x)\n",
    "\n",
    "fruits = [\"apple\", \"banana\", \"cherry\"]\n",
    "\n",
    "my_function(fruits)"
   ]
  },
  {
   "cell_type": "code",
   "execution_count": 20,
   "metadata": {},
   "outputs": [
    {
     "name": "stdout",
     "output_type": "stream",
     "text": [
      "15\n",
      "25\n",
      "45\n"
     ]
    }
   ],
   "source": [
    "#Return Values\n",
    "\n",
    "def my_function(x):\n",
    "  return 5 * x\n",
    "\n",
    "a=my_function(3)\n",
    "print(a)\n",
    "print(my_function(5))\n",
    "print(my_function(9))"
   ]
  },
  {
   "cell_type": "code",
   "execution_count": 2,
   "metadata": {},
   "outputs": [
    {
     "name": "stdout",
     "output_type": "stream",
     "text": [
      "15\n",
      "<function <lambda> at 0x000000923C3C5948> 5\n"
     ]
    }
   ],
   "source": [
    "#Python Lambda\n",
    "#A lambda function is a small anonymous function.\n",
    "#A lambda function can take any number of arguments, but can only have one expression.\n",
    "#lambda arguments : expression\n",
    "\n",
    "x = lambda a : a + 10\n",
    "print(x(5))\n",
    "\n",
    "#print(lambda a : a + 10,5)\n"
   ]
  },
  {
   "cell_type": "code",
   "execution_count": 10,
   "metadata": {},
   "outputs": [
    {
     "name": "stdout",
     "output_type": "stream",
     "text": [
      "30\n"
     ]
    }
   ],
   "source": [
    "x = lambda a, b : a * b\n",
    "print(x(5, 6))"
   ]
  },
  {
   "cell_type": "code",
   "execution_count": 11,
   "metadata": {},
   "outputs": [
    {
     "name": "stdout",
     "output_type": "stream",
     "text": [
      "[4, 6, 8, 12]\n"
     ]
    }
   ],
   "source": [
    "#In Python, we generally use it as an argument to a higher-order function \n",
    "#(a function that takes in other functions as arguments). \n",
    "#Lambda functions are used along with built-in functions like filter(), map() etc.\n",
    "\n",
    "#Example use with filter()\n",
    "#The filter() function in Python takes in a function and a list as arguments.\n",
    "\n",
    "#The function is called with all the items in the list and a new list is \n",
    "#returned which contains items for which the function evaluates to True.\n",
    "\n",
    "# Program to filter out only the even items from a list\n",
    "\n",
    "my_list = [1, 5, 4, 6, 8, 11, 3, 12]\n",
    "\n",
    "new_list = list(filter(lambda x: (x%2 == 0) , my_list))\n",
    "\n",
    "print(new_list)\n",
    "\n",
    "ages=[56,45,34,36,23,56,18]"
   ]
  },
  {
   "cell_type": "code",
   "execution_count": 12,
   "metadata": {},
   "outputs": [
    {
     "name": "stdout",
     "output_type": "stream",
     "text": [
      "[90, 59, 21, 60]\n"
     ]
    }
   ],
   "source": [
    "# Python 3 code to people above 18 yrs \n",
    "ages = [13, 90, 17, 59, 21, 60, 5] \n",
    "  \n",
    "adults = list(filter(lambda age: age>18, ages)) \n",
    "  \n",
    "print(adults)"
   ]
  },
  {
   "cell_type": "code",
   "execution_count": 13,
   "metadata": {},
   "outputs": [
    {
     "name": "stdout",
     "output_type": "stream",
     "text": [
      "[10, 14, 44, 194, 108, 124, 154, 46, 146, 122]\n"
     ]
    }
   ],
   "source": [
    "#Using lambda() Function with map()\n",
    "#The map() function in Python takes in a function and a list as an argument. \n",
    "#The function is called with a lambda function and a list and a new list is returned \n",
    "#which contains all the lambda modified items returned by that function for each item. \n",
    "\n",
    "# to get double of a list. \n",
    "li = [5, 7, 22, 97, 54, 62, 77, 23, 73, 61] \n",
    "  \n",
    "final_list = list(map(lambda x: x*2, li)) \n",
    "print(final_list) "
   ]
  },
  {
   "cell_type": "code",
   "execution_count": 14,
   "metadata": {},
   "outputs": [
    {
     "name": "stdout",
     "output_type": "stream",
     "text": [
      "['DOG', 'CAT', 'PARROT', 'RABBIT']\n"
     ]
    }
   ],
   "source": [
    "animals = ['dog', 'cat', 'parrot', 'rabbit'] \n",
    "  \n",
    "# here we intend to change all animal names \n",
    "# to upper case and return the same \n",
    "uppered_animals = list(map(lambda animal: str.upper(animal), animals)) \n",
    "  \n",
    "print(uppered_animals)"
   ]
  },
  {
   "cell_type": "code",
   "execution_count": 15,
   "metadata": {},
   "outputs": [
    {
     "name": "stdout",
     "output_type": "stream",
     "text": [
      "[10, 8, 7, 5, 11]\n"
     ]
    }
   ],
   "source": [
    "#Print all the numbers greater than 4 using filter\n",
    "sequences = [10,2,8,7,5,4,3,11,0, 1]\n",
    "filtered_result = filter (lambda x: x > 4, sequences) \n",
    "print(list(filtered_result))"
   ]
  },
  {
   "cell_type": "code",
   "execution_count": 17,
   "metadata": {},
   "outputs": [
    {
     "name": "stdout",
     "output_type": "stream",
     "text": [
      "120\n"
     ]
    }
   ],
   "source": [
    "#lambdas in reduce()\n",
    "#The reduce function, like map(), is used to apply an operation to every element in a sequence.\n",
    "#However, it differs from the map in its working. These are the steps followed by the reduce() function to compute an output:\n",
    "\n",
    "#Step 1) Perform the defined operation on the first 2 elements of the sequence.\n",
    "\n",
    "#Step 2) Save this result\n",
    "\n",
    "#Step 3) Perform the operation with the saved result and the next element in the sequence.\n",
    "\n",
    "#Step 4) Repeat until no more elements are left.\n",
    "\n",
    "from functools import reduce\n",
    "\n",
    "sequences = [1,2,3,4,5]\n",
    "product = reduce (lambda x, y: x*y, sequences)\n",
    "print(product)"
   ]
  },
  {
   "cell_type": "code",
   "execution_count": 4,
   "metadata": {},
   "outputs": [
    {
     "name": "stdout",
     "output_type": "stream",
     "text": [
      "3.0\n"
     ]
    }
   ],
   "source": [
    "# find mean/average of the list\n",
    "\n",
    "from functools import reduce\n",
    "\n",
    "sequences = [1,2,3,4,5]\n",
    "l=len(sequences)\n",
    "product = reduce (lambda x, y: x+y, sequences)\n",
    "a=product/l\n",
    "print(a)"
   ]
  },
  {
   "cell_type": "code",
   "execution_count": 19,
   "metadata": {},
   "outputs": [
    {
     "name": "stdout",
     "output_type": "stream",
     "text": [
      "Please input the ID and name separated by comma or q to exit: 1,a\n",
      "Please input the ID and name separated by comma or q to exit: 2,b\n",
      "Please input the ID and name separated by comma or q to exit: 3,c\n",
      "Please input the ID and name separated by comma or q to exit: 4,d\n",
      "Please input the ID and name separated by comma or q to exit: q\n",
      "1's name is a.\n",
      "2's name is b.\n",
      "3's name is c.\n",
      "4's name is d.\n"
     ]
    }
   ],
   "source": [
    "#storing student data in dictionary\n",
    "\n",
    "students_DB={}\n",
    "student_number=None\n",
    " \n",
    "#ask input from user or 'q' to exit\n",
    "while True:\n",
    "    line = input('Please input the ID and name separated by comma or q to exit: ')\n",
    "    if line == 'q':\n",
    "        break\n",
    " \n",
    "    id, name = line.split(',')\n",
    "    students_DB.update({id:name})\n",
    " \n",
    "#output\n",
    "for key in students_DB:\n",
    "    print('{}\\'s name is {}.'.format(key, students_DB[key]))"
   ]
  },
  {
   "cell_type": "code",
   "execution_count": 24,
   "metadata": {},
   "outputs": [
    {
     "name": "stdout",
     "output_type": "stream",
     "text": [
      "Please input the ID name and marks separated by comma or q to exit: 1,a,5\n",
      "Please input the ID name and marks separated by comma or q to exit: 2,b,6\n",
      "Please input the ID name and marks separated by comma or q to exit: 3,c,7\n",
      "Please input the ID name and marks separated by comma or q to exit: q\n"
     ]
    },
    {
     "ename": "AttributeError",
     "evalue": "'str' object has no attribute 'items'",
     "output_type": "error",
     "traceback": [
      "\u001b[1;31m---------------------------------------------------------------------------\u001b[0m",
      "\u001b[1;31mAttributeError\u001b[0m                            Traceback (most recent call last)",
      "\u001b[1;32m<ipython-input-24-c7d74cc187e6>\u001b[0m in \u001b[0;36m<module>\u001b[1;34m\u001b[0m\n\u001b[0;32m     15\u001b[0m \u001b[1;31m#output\u001b[0m\u001b[1;33m\u001b[0m\u001b[1;33m\u001b[0m\u001b[1;33m\u001b[0m\u001b[0m\n\u001b[0;32m     16\u001b[0m \u001b[1;32mfor\u001b[0m \u001b[0ms\u001b[0m \u001b[1;32min\u001b[0m \u001b[0mstudents_DB\u001b[0m\u001b[1;33m:\u001b[0m\u001b[1;33m\u001b[0m\u001b[1;33m\u001b[0m\u001b[0m\n\u001b[1;32m---> 17\u001b[1;33m     \u001b[1;32mfor\u001b[0m \u001b[0mkey\u001b[0m\u001b[1;33m,\u001b[0m\u001b[0mvalue\u001b[0m \u001b[1;32min\u001b[0m \u001b[0ms\u001b[0m\u001b[1;33m.\u001b[0m\u001b[0mitems\u001b[0m\u001b[1;33m(\u001b[0m\u001b[1;33m)\u001b[0m\u001b[1;33m:\u001b[0m\u001b[1;33m\u001b[0m\u001b[1;33m\u001b[0m\u001b[0m\n\u001b[0m\u001b[0;32m     18\u001b[0m         \u001b[0mprint\u001b[0m \u001b[1;33m(\u001b[0m\u001b[1;34m'{0}: {1}'\u001b[0m\u001b[1;33m.\u001b[0m\u001b[0mformat\u001b[0m\u001b[1;33m(\u001b[0m\u001b[0mkey\u001b[0m\u001b[1;33m,\u001b[0m \u001b[0mvalue\u001b[0m\u001b[1;33m)\u001b[0m\u001b[1;33m)\u001b[0m\u001b[1;33m\u001b[0m\u001b[1;33m\u001b[0m\u001b[0m\n",
      "\u001b[1;31mAttributeError\u001b[0m: 'str' object has no attribute 'items'"
     ]
    }
   ],
   "source": [
    "students_DB={}\n",
    "student_number=None\n",
    " \n",
    "#ask input from user or 'q' to exit\n",
    "while True:\n",
    "    line = input('Please input the ID name and marks separated by comma or q to exit: ')\n",
    "    if line == 'q':\n",
    "        break\n",
    " \n",
    "    id, name, marks = line.split(',')\n",
    "    students_DB.update({\"id\":id,\n",
    "                       \"name\":name,\n",
    "                        \"marks\":marks})\n",
    " \n",
    "#output\n",
    "#for s in students_DB:\n",
    "for key,value in students_DB.items():\n",
    "      print(\"\\n = \"+user)\n",
    "      print(\"First name = \"+user_info['first'])\n",
    "      print(\"Last name = \"+user_info['last'])\n",
    "      print(\"Location = \"+user_info['location'])"
   ]
  },
  {
   "cell_type": "code",
   "execution_count": 24,
   "metadata": {},
   "outputs": [
    {
     "name": "stdout",
     "output_type": "stream",
     "text": [
      "Enter number of students 1\n",
      "Enter name:  ert\n",
      "Enter marks os student number 1  5\n",
      "Enter marks os student number 1  6\n",
      "Enter marks os student number 1  7\n",
      "Enter marks os student number 1  8\n",
      "Enter marks os student number 1  9\n",
      "Total mrks of ert  are  35.0\n",
      "\n",
      "\n",
      "Created dictionary is  {'ert': [5.0, 6.0, 7.0, 8.0, 9.0]}\n"
     ]
    },
    {
     "data": {
      "image/png": "[encoded data removed]",
      "text/plain": [
       "<Figure size 432x288 with 1 Axes>"
      ]
     },
     "metadata": {
      "needs_background": "light"
     },
     "output_type": "display_data"
    }
   ],
   "source": [
    "#students={\"Ankit\":[89,78,89,56,78],\"Joy\":[56,79,89,97,56]}\n",
    "#Creating a dictionary for student data\n",
    "\n",
    "#def stu_name:\n",
    "    \n",
    "#def stu_marks  :  \n",
    "import matplotlib.pyplot as plt\n",
    "\n",
    "students=dict()\n",
    "n=int(input(\"Enter number of students \"))\n",
    "for i in range(n):\n",
    "    sname=input(\"Enter name:  \")\n",
    "    marks=[]\n",
    "    #total=0\n",
    "    for j in range(5):\n",
    "        m=float(input(\"Enter marks os student number {}  \".format(i+1)))\n",
    "        marks.append(m)\n",
    "        #total=total+m\n",
    "        s=sum(marks)\n",
    "    print(\"Total mrks of {}  are \".format(sname),s)    \n",
    "    print('\\n')    \n",
    "    students[sname]=marks # making a dictionary entry\n",
    "    \n",
    "print(\"Created dictionary is \",students)    \n",
    "    \n",
    "  "
   ]
  },
  {
   "cell_type": "code",
   "execution_count": 5,
   "metadata": {},
   "outputs": [
    {
     "data": {
      "image/png": "[encoded data removed]",
      "text/plain": [
       "<Figure size 432x288 with 1 Axes>"
      ]
     },
     "metadata": {
      "needs_background": "light"
     },
     "output_type": "display_data"
    }
   ],
   "source": []
  },
  {
   "cell_type": "code",
   "execution_count": 26,
   "metadata": {},
   "outputs": [
    {
     "data": {
      "image/png": "[encoded data removed]",
      "text/plain": [
       "<Figure size 432x288 with 1 Axes>"
      ]
     },
     "metadata": {
      "needs_background": "light"
     },
     "output_type": "display_data"
    }
   ],
   "source": []
  },
  {
   "cell_type": "code",
   "execution_count": 27,
   "metadata": {},
   "outputs": [
    {
     "data": {
      "image/png": "[encoded data removed]",
      "text/plain": [
       "<Figure size 432x288 with 1 Axes>"
      ]
     },
     "metadata": {
      "needs_background": "light"
     },
     "output_type": "display_data"
    }
   ],
   "source": []
  },
  {
   "cell_type": "code",
   "execution_count": 28,
   "metadata": {},
   "outputs": [
    {
     "data": {
      "image/png": "[encoded data removed]",
      "text/plain": [
       "<Figure size 432x288 with 1 Axes>"
      ]
     },
     "metadata": {
      "needs_background": "light"
     },
     "output_type": "display_data"
    }
   ],
   "source": []
  },
  {
   "cell_type": "code",
   "execution_count": null,
   "metadata": {},
   "outputs": [],
   "source": []
  }
 ],
 "metadata": {
  "kernelspec": {
   "display_name": "Python 3",
   "language": "python",
   "name": "python3"
  },
  "language_info": {
   "codemirror_mode": {
    "name": "ipython",
    "version": 3
   },
   "file_extension": ".py",
   "mimetype": "text/x-python",
   "name": "python",
   "nbconvert_exporter": "python",
   "pygments_lexer": "ipython3",
   "version": "3.7.6"
  }
 },
 "nbformat": 4,
 "nbformat_minor": 4
}
